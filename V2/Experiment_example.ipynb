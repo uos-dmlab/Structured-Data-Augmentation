{
 "cells": [
  {
   "cell_type": "code",
   "execution_count": null,
   "metadata": {},
   "outputs": [],
   "source": [
    "from model.BAMTGAN import BAMTGAN\n",
    "import numpy as np\n",
    "import pandas as pd\n",
    "import glob\n",
    "import math"
   ]
  },
  {
   "cell_type": "code",
   "execution_count": null,
   "metadata": {},
   "outputs": [],
   "source": [
    "dataset = \"Adult\" \n",
    "target=\"income\"\n",
    "real_path = \"Real_Datasets/adult_augmentator.csv\" \n",
    "fake_file_root = \"Fake_Datasets\" \n",
    "\n",
    "epochs_num =150\n",
    "num_records_percent_start = 20\n",
    "num_records_percent_end = 200\n",
    "next_percent = 20\n",
    "categorical_columns_list = ['workclass', 'education', 'marital-status', 'occupation','relationship', 'race', 'gender', 'native-country', 'income']\n",
    "integer_columns_list = ['age', 'fnlwgt','capital-gain', 'capital-loss','hours-per-week']\n",
    "mixed_columns_list =  {'capital-loss':[0.0],'capital-gain':[0.0]}\n",
    "log_columns_list = []\n",
    "problem_type_label ={\"Classification\": target}"
   ]
  },
  {
   "cell_type": "code",
   "execution_count": null,
   "metadata": {},
   "outputs": [],
   "source": [
    "synthesizer =  BAMTGAN(raw_csv_path = real_path,\n",
    "                 test_ratio = 0.20,  \n",
    "                 categorical_columns =  categorical_columns_list,\n",
    "                 log_columns =log_columns_list,\n",
    "                 mixed_columns=mixed_columns_list, \n",
    "                 integer_columns = integer_columns_list, \n",
    "                 problem_type= problem_type_label,\n",
    "                 epochs = epochs_num,num_records=num_records_percent) \n",
    "\n",
    "for i in range(num_records_percent_start, num_records_percent_end, next_percent):\n",
    "    synthesizer.fit()\n",
    "    syn = synthesizer.generate_samples()\n",
    "    syn.to_csv(fake_file_root+\"/\"+dataset+\"/\"+ dataset+\"_\"+str(i)+\"%_fake.csv\".format(exp=i), index= False)"
   ]
  }
 ],
 "metadata": {
  "interpreter": {
   "hash": "5bbd4e8a0020626d1955d6e7d647b883363040a056d10513dec12a340be08610"
  },
  "kernelspec": {
   "display_name": "Python 3 (ipykernel)",
   "language": "python",
   "name": "python3"
  },
  "language_info": {
   "codemirror_mode": {
    "name": "ipython",
    "version": 3
   },
   "file_extension": ".py",
   "mimetype": "text/x-python",
   "name": "python",
   "nbconvert_exporter": "python",
   "pygments_lexer": "ipython3",
   "version": "3.8.15"
  }
 },
 "nbformat": 4,
 "nbformat_minor": 2
}
